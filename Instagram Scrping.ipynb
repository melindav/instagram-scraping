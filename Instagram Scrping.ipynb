{
 "cells": [
  {
   "cell_type": "code",
   "execution_count": 38,
   "metadata": {
    "ExecuteTime": {
     "end_time": "2020-07-06T06:31:19.696618Z",
     "start_time": "2020-07-06T06:31:19.680618Z"
    }
   },
   "outputs": [],
   "source": [
    "import numpy as np\n",
    "import pandas as pd\n",
    "import glob\n",
    "import os"
   ]
  },
  {
   "cell_type": "code",
   "execution_count": 66,
   "metadata": {
    "ExecuteTime": {
     "end_time": "2020-07-06T06:44:57.532059Z",
     "start_time": "2020-07-06T06:44:55.845748Z"
    }
   },
   "outputs": [],
   "source": [
    "import seaborn as sns \n",
    "import matplotlib.pyplot as plt"
   ]
  },
  {
   "cell_type": "markdown",
   "metadata": {
    "ExecuteTime": {
     "end_time": "2020-07-04T01:22:51.100598Z",
     "start_time": "2020-07-04T01:22:50.483993Z"
    },
    "scrolled": true
   },
   "source": [
    "# Commands used to download files \n",
    "\n",
    "[Instaloader](https://instaloader.github.io/) was used for downloading the posts.Install the instaloader first to run this command. Run the following command  in command prompt. Fill the username section by your username of instagram, it will prompt from password in command prompt. \n",
    "\n",
    "The following command will download posts with hashtag \"#workout\" which is one of the most popular hashtags. \n",
    "\n",
    "## Installation\n",
    " One of the following\n",
    " - conda install instalaoder (its inside anaconda prompt)\n",
    " - pip install instaloader (recommended, beacuse u need to type password of insta)\n",
    " \n",
    "## Command\n",
    "\n",
    "$$instaloader --login=<username_instagram> --stories --highlights --no-profile-pic --no-pictures --no-compress-json --no-videos  --comments --geotags  --post-filter=\"date_utc >= datetime(2019, 5, 31)\" --post-metadata-txt=\"{likes} likes, {comments} comments.\" --storyitem-metadata-txt=\" {geotags} geotags. {stories} stories.\" \"#workout\"$$\n",
    "\n",
    "## File types\n",
    "Only post were used for this project but the command downloads four file variations with endings as follows:\n",
    "- ..._UTC.json -> Files with all the info on post\n",
    "- ..._UTC.txt -> FIles with info on just number of likes and comments\n",
    "- ..._UTC_comments.json -> Files with comments on post\n",
    "- ..._UTC_location.txt -> Files with location on the post\n",
    "\n",
    "Only files ending on \"_UTC.json\"  were used in this project\n",
    "    \n",
    "## Columns used\n",
    "From the files that returned json objects the following columns were chosen.\n",
    "*The following columns are renamed and not as it is from the json file*\n",
    "\n",
    "-  upload_format -> Uplaod Type, like image,video or sidecar\n",
    "- likes_number -> NUmber of likes\n",
    "- comments_number -> Number of Comments on the post\n",
    "- address -> Address of the uploader\n",
    "- owner_id -> User id of uploader\n",
    "- owner_username -> Username of uploader\n",
    "- product_type -> Type of post uploader like feed, igtv\n",
    "- created_at -> Upload date in timestamp\n",
    "- can_reshare -> Permisson to reshare the post\n",
    "- able_to_comment -> Comments disabled or not\n",
    "\n",
    "\n"
   ]
  },
  {
   "cell_type": "markdown",
   "metadata": {},
   "source": [
    "# List to hold values from json files\n"
   ]
  },
  {
   "cell_type": "code",
   "execution_count": 39,
   "metadata": {
    "ExecuteTime": {
     "end_time": "2020-07-06T06:31:19.712617Z",
     "start_time": "2020-07-06T06:31:19.700619Z"
    }
   },
   "outputs": [],
   "source": [
    "upload_format =[]\n",
    "likes_number =[]\n",
    "comments_number = []\n",
    "address =[]\n",
    "owner_id = []\n",
    "owner_username= []\n",
    "product_type = []\n",
    "created_at = []\n",
    "can_reshare =[]\n",
    "able_to_comment = []"
   ]
  },
  {
   "cell_type": "markdown",
   "metadata": {},
   "source": [
    "# Import All JSON's"
   ]
  },
  {
   "cell_type": "code",
   "execution_count": 40,
   "metadata": {
    "ExecuteTime": {
     "end_time": "2020-07-06T06:31:37.208549Z",
     "start_time": "2020-07-06T06:31:19.717622Z"
    },
    "scrolled": true
   },
   "outputs": [],
   "source": [
    "# Absolute path to the folder\n",
    "path_to_json = 'C:/Users/Lenovo/Documents/Integrify Works/Api and Scraping/#workout/Profiles' \n",
    "\n",
    "# Pattern of files to use\n",
    "json_pattern = os.path.join(path_to_json,'*.json')\n",
    "# List of file names\n",
    "file_list = glob.glob(json_pattern)\n",
    "for file in file_list:\n",
    "    df = pd.read_json(file)\n",
    "    \n",
    "    # The following dict routes were tested from the files downloaded from instalaoder\n",
    "    #Upload the relevent values in the lists\n",
    "    upload_format.append(df[\"node\"][\"__typename\"])\n",
    "    likes_number.append( df[\"node\"][\"edge_liked_by\"][\"count\"])\n",
    "    comments_number.append(df[\"node\"][\"edge_media_to_comment\"][\"count\"])\n",
    "    owner_id.append( df[\"node\"][\"owner\"][\"id\"])\n",
    "    owner_username.append(df[\"node\"][\"owner\"][\"username\"])\n",
    "    created_at.append(df[\"node\"][\"taken_at_timestamp\"])\n",
    "    can_reshare.append(df[\"node\"][\"viewer_can_reshare\"])\n",
    "    able_to_comment.append(df[\"node\"][\"comments_disabled\"])\n",
    "    \n",
    "    \n",
    "    #FOllowing operation gave error\n",
    "    #possibly due to missing data\n",
    "    # So, i implemented try and catch\n",
    "    try:\n",
    "        # Try searching this\n",
    "         df[\"node\"][\"product_type\"]\n",
    "    except:\n",
    "        # IF error add nan to the list\n",
    "        product_type.append(np.nan)\n",
    "    else:  \n",
    "        # If not error add the value\n",
    "        product_type.append(df[\"node\"][\"product_type\"])\n",
    "        \n",
    "    try:\n",
    "        # Same logic as above\n",
    "        df[\"node\"][\"location\"][\"name\"]\n",
    "    except:\n",
    "        address.append(np.nan)\n",
    "    else:         \n",
    "        address.append(df[\"node\"][\"location\"][\"name\"])\n",
    "\n"
   ]
  },
  {
   "cell_type": "code",
   "execution_count": 41,
   "metadata": {
    "ExecuteTime": {
     "end_time": "2020-07-06T06:31:37.238549Z",
     "start_time": "2020-07-06T06:31:37.213547Z"
    }
   },
   "outputs": [],
   "source": [
    "# Create df\n",
    "\n",
    "df = pd.DataFrame({\"upload_format\":upload_format,\n",
    "                   \"likes_number\":likes_number,\n",
    "                   \"comments_number\":comments_number,\n",
    "                   \"address\":address,\n",
    "                   \"owner_id\":owner_id,\n",
    "                   \"owner_username\":owner_username,\n",
    "                   \"product_type\":product_type,\n",
    "                   \"created_at\":created_at,\n",
    "                   \"can_reshare\":can_reshare,\n",
    "                   \"comments_disabled\":able_to_comment})\n"
   ]
  },
  {
   "cell_type": "code",
   "execution_count": 42,
   "metadata": {
    "ExecuteTime": {
     "end_time": "2020-07-06T06:31:37.286547Z",
     "start_time": "2020-07-06T06:31:37.244548Z"
    }
   },
   "outputs": [
    {
     "data": {
      "text/html": [
       "<div>\n",
       "<style scoped>\n",
       "    .dataframe tbody tr th:only-of-type {\n",
       "        vertical-align: middle;\n",
       "    }\n",
       "\n",
       "    .dataframe tbody tr th {\n",
       "        vertical-align: top;\n",
       "    }\n",
       "\n",
       "    .dataframe thead th {\n",
       "        text-align: right;\n",
       "    }\n",
       "</style>\n",
       "<table border=\"1\" class=\"dataframe\">\n",
       "  <thead>\n",
       "    <tr style=\"text-align: right;\">\n",
       "      <th></th>\n",
       "      <th>upload_format</th>\n",
       "      <th>likes_number</th>\n",
       "      <th>comments_number</th>\n",
       "      <th>address</th>\n",
       "      <th>owner_id</th>\n",
       "      <th>owner_username</th>\n",
       "      <th>product_type</th>\n",
       "      <th>created_at</th>\n",
       "      <th>can_reshare</th>\n",
       "      <th>comments_disabled</th>\n",
       "    </tr>\n",
       "  </thead>\n",
       "  <tbody>\n",
       "    <tr>\n",
       "      <th>0</th>\n",
       "      <td>GraphVideo</td>\n",
       "      <td>984</td>\n",
       "      <td>72</td>\n",
       "      <td>Melbourne, Victoria, Australia</td>\n",
       "      <td>6517270529</td>\n",
       "      <td>nikalemusic</td>\n",
       "      <td>feed</td>\n",
       "      <td>1578185613</td>\n",
       "      <td>True</td>\n",
       "      <td>False</td>\n",
       "    </tr>\n",
       "    <tr>\n",
       "      <th>1</th>\n",
       "      <td>GraphImage</td>\n",
       "      <td>277</td>\n",
       "      <td>4</td>\n",
       "      <td>Bergdorf Goodman</td>\n",
       "      <td>211402406</td>\n",
       "      <td>xy451</td>\n",
       "      <td>NaN</td>\n",
       "      <td>1578265568</td>\n",
       "      <td>True</td>\n",
       "      <td>False</td>\n",
       "    </tr>\n",
       "    <tr>\n",
       "      <th>2</th>\n",
       "      <td>GraphVideo</td>\n",
       "      <td>1578</td>\n",
       "      <td>108</td>\n",
       "      <td>Melbourne, Victoria, Australia</td>\n",
       "      <td>6517270529</td>\n",
       "      <td>nikalemusic</td>\n",
       "      <td>feed</td>\n",
       "      <td>1579230454</td>\n",
       "      <td>True</td>\n",
       "      <td>False</td>\n",
       "    </tr>\n",
       "    <tr>\n",
       "      <th>3</th>\n",
       "      <td>GraphImage</td>\n",
       "      <td>309</td>\n",
       "      <td>1</td>\n",
       "      <td>Rosé Mansion</td>\n",
       "      <td>211402406</td>\n",
       "      <td>xy451</td>\n",
       "      <td>NaN</td>\n",
       "      <td>1579490733</td>\n",
       "      <td>True</td>\n",
       "      <td>False</td>\n",
       "    </tr>\n",
       "    <tr>\n",
       "      <th>4</th>\n",
       "      <td>GraphImage</td>\n",
       "      <td>164</td>\n",
       "      <td>6</td>\n",
       "      <td>Dominican Republic</td>\n",
       "      <td>514723745</td>\n",
       "      <td>littlemissbijou</td>\n",
       "      <td>NaN</td>\n",
       "      <td>1583703527</td>\n",
       "      <td>True</td>\n",
       "      <td>False</td>\n",
       "    </tr>\n",
       "  </tbody>\n",
       "</table>\n",
       "</div>"
      ],
      "text/plain": [
       "  upload_format  likes_number  comments_number  \\\n",
       "0    GraphVideo           984               72   \n",
       "1    GraphImage           277                4   \n",
       "2    GraphVideo          1578              108   \n",
       "3    GraphImage           309                1   \n",
       "4    GraphImage           164                6   \n",
       "\n",
       "                          address    owner_id   owner_username product_type  \\\n",
       "0  Melbourne, Victoria, Australia  6517270529      nikalemusic         feed   \n",
       "1                Bergdorf Goodman   211402406            xy451          NaN   \n",
       "2  Melbourne, Victoria, Australia  6517270529      nikalemusic         feed   \n",
       "3                    Rosé Mansion   211402406            xy451          NaN   \n",
       "4              Dominican Republic   514723745  littlemissbijou          NaN   \n",
       "\n",
       "   created_at  can_reshare  comments_disabled  \n",
       "0  1578185613         True              False  \n",
       "1  1578265568         True              False  \n",
       "2  1579230454         True              False  \n",
       "3  1579490733         True              False  \n",
       "4  1583703527         True              False  "
      ]
     },
     "execution_count": 42,
     "metadata": {},
     "output_type": "execute_result"
    }
   ],
   "source": [
    "df.head()"
   ]
  },
  {
   "cell_type": "code",
   "execution_count": 43,
   "metadata": {
    "ExecuteTime": {
     "end_time": "2020-07-06T06:31:37.318551Z",
     "start_time": "2020-07-06T06:31:37.293552Z"
    },
    "scrolled": true
   },
   "outputs": [
    {
     "data": {
      "text/plain": [
       "upload_format        object\n",
       "likes_number          int64\n",
       "comments_number       int64\n",
       "address              object\n",
       "owner_id             object\n",
       "owner_username       object\n",
       "product_type         object\n",
       "created_at            int64\n",
       "can_reshare            bool\n",
       "comments_disabled      bool\n",
       "dtype: object"
      ]
     },
     "execution_count": 43,
     "metadata": {},
     "output_type": "execute_result"
    }
   ],
   "source": [
    "df.dtypes"
   ]
  },
  {
   "cell_type": "code",
   "execution_count": 44,
   "metadata": {
    "ExecuteTime": {
     "end_time": "2020-07-06T06:31:37.334551Z",
     "start_time": "2020-07-06T06:31:37.322549Z"
    }
   },
   "outputs": [
    {
     "data": {
      "text/plain": [
       "array(['GraphVideo', 'GraphImage', 'GraphSidecar'], dtype=object)"
      ]
     },
     "execution_count": 44,
     "metadata": {},
     "output_type": "execute_result"
    }
   ],
   "source": [
    "\n",
    "df.upload_format.unique()"
   ]
  },
  {
   "cell_type": "markdown",
   "metadata": {},
   "source": [
    "# Data Tyding and Cleaning"
   ]
  },
  {
   "cell_type": "markdown",
   "metadata": {},
   "source": [
    "## Upload Format Slicing"
   ]
  },
  {
   "cell_type": "markdown",
   "metadata": {},
   "source": [
    "The upload_format column has word graph concatednated to each format types so lets remove that"
   ]
  },
  {
   "cell_type": "code",
   "execution_count": 45,
   "metadata": {
    "ExecuteTime": {
     "end_time": "2020-07-06T06:31:37.350549Z",
     "start_time": "2020-07-06T06:31:37.341549Z"
    }
   },
   "outputs": [],
   "source": [
    "# Slicing from the 5th will remove Graph\n",
    "df['upload_format'] = df['upload_format'].str.slice(5)"
   ]
  },
  {
   "cell_type": "markdown",
   "metadata": {},
   "source": [
    "## Created_At -> DateTime"
   ]
  },
  {
   "cell_type": "markdown",
   "metadata": {},
   "source": [
    " The column created_at is a timestamp, so lets convert it into datetime and assing as index of dataframe"
   ]
  },
  {
   "cell_type": "code",
   "execution_count": 46,
   "metadata": {
    "ExecuteTime": {
     "end_time": "2020-07-06T06:31:37.380549Z",
     "start_time": "2020-07-06T06:31:37.357551Z"
    }
   },
   "outputs": [],
   "source": [
    "# df['date'] = pandas.to_datetime(df['date'], unit='s')\n",
    "\n",
    "df['Date'] = pd.to_datetime(df['created_at'], unit='s')\n",
    "\n",
    "# Set date as index\n",
    "df.set_index(\"Date\", drop=True,inplace=True)\n",
    "\n",
    "#Also drop created at col\n",
    "df.drop('created_at', inplace=True, axis=1)"
   ]
  },
  {
   "cell_type": "code",
   "execution_count": 47,
   "metadata": {
    "ExecuteTime": {
     "end_time": "2020-07-06T06:31:37.426554Z",
     "start_time": "2020-07-06T06:31:37.386551Z"
    },
    "scrolled": true
   },
   "outputs": [
    {
     "data": {
      "text/html": [
       "<div>\n",
       "<style scoped>\n",
       "    .dataframe tbody tr th:only-of-type {\n",
       "        vertical-align: middle;\n",
       "    }\n",
       "\n",
       "    .dataframe tbody tr th {\n",
       "        vertical-align: top;\n",
       "    }\n",
       "\n",
       "    .dataframe thead th {\n",
       "        text-align: right;\n",
       "    }\n",
       "</style>\n",
       "<table border=\"1\" class=\"dataframe\">\n",
       "  <thead>\n",
       "    <tr style=\"text-align: right;\">\n",
       "      <th></th>\n",
       "      <th>upload_format</th>\n",
       "      <th>likes_number</th>\n",
       "      <th>comments_number</th>\n",
       "      <th>address</th>\n",
       "      <th>owner_id</th>\n",
       "      <th>owner_username</th>\n",
       "      <th>product_type</th>\n",
       "      <th>can_reshare</th>\n",
       "      <th>comments_disabled</th>\n",
       "    </tr>\n",
       "    <tr>\n",
       "      <th>Date</th>\n",
       "      <th></th>\n",
       "      <th></th>\n",
       "      <th></th>\n",
       "      <th></th>\n",
       "      <th></th>\n",
       "      <th></th>\n",
       "      <th></th>\n",
       "      <th></th>\n",
       "      <th></th>\n",
       "    </tr>\n",
       "  </thead>\n",
       "  <tbody>\n",
       "    <tr>\n",
       "      <th>2020-01-05 00:53:33</th>\n",
       "      <td>Video</td>\n",
       "      <td>984</td>\n",
       "      <td>72</td>\n",
       "      <td>Melbourne, Victoria, Australia</td>\n",
       "      <td>6517270529</td>\n",
       "      <td>nikalemusic</td>\n",
       "      <td>feed</td>\n",
       "      <td>True</td>\n",
       "      <td>False</td>\n",
       "    </tr>\n",
       "    <tr>\n",
       "      <th>2020-01-05 23:06:08</th>\n",
       "      <td>Image</td>\n",
       "      <td>277</td>\n",
       "      <td>4</td>\n",
       "      <td>Bergdorf Goodman</td>\n",
       "      <td>211402406</td>\n",
       "      <td>xy451</td>\n",
       "      <td>NaN</td>\n",
       "      <td>True</td>\n",
       "      <td>False</td>\n",
       "    </tr>\n",
       "    <tr>\n",
       "      <th>2020-01-17 03:07:34</th>\n",
       "      <td>Video</td>\n",
       "      <td>1578</td>\n",
       "      <td>108</td>\n",
       "      <td>Melbourne, Victoria, Australia</td>\n",
       "      <td>6517270529</td>\n",
       "      <td>nikalemusic</td>\n",
       "      <td>feed</td>\n",
       "      <td>True</td>\n",
       "      <td>False</td>\n",
       "    </tr>\n",
       "    <tr>\n",
       "      <th>2020-01-20 03:25:33</th>\n",
       "      <td>Image</td>\n",
       "      <td>309</td>\n",
       "      <td>1</td>\n",
       "      <td>Rosé Mansion</td>\n",
       "      <td>211402406</td>\n",
       "      <td>xy451</td>\n",
       "      <td>NaN</td>\n",
       "      <td>True</td>\n",
       "      <td>False</td>\n",
       "    </tr>\n",
       "    <tr>\n",
       "      <th>2020-03-08 21:38:47</th>\n",
       "      <td>Image</td>\n",
       "      <td>164</td>\n",
       "      <td>6</td>\n",
       "      <td>Dominican Republic</td>\n",
       "      <td>514723745</td>\n",
       "      <td>littlemissbijou</td>\n",
       "      <td>NaN</td>\n",
       "      <td>True</td>\n",
       "      <td>False</td>\n",
       "    </tr>\n",
       "  </tbody>\n",
       "</table>\n",
       "</div>"
      ],
      "text/plain": [
       "                    upload_format  likes_number  comments_number  \\\n",
       "Date                                                               \n",
       "2020-01-05 00:53:33         Video           984               72   \n",
       "2020-01-05 23:06:08         Image           277                4   \n",
       "2020-01-17 03:07:34         Video          1578              108   \n",
       "2020-01-20 03:25:33         Image           309                1   \n",
       "2020-03-08 21:38:47         Image           164                6   \n",
       "\n",
       "                                            address    owner_id  \\\n",
       "Date                                                              \n",
       "2020-01-05 00:53:33  Melbourne, Victoria, Australia  6517270529   \n",
       "2020-01-05 23:06:08                Bergdorf Goodman   211402406   \n",
       "2020-01-17 03:07:34  Melbourne, Victoria, Australia  6517270529   \n",
       "2020-01-20 03:25:33                    Rosé Mansion   211402406   \n",
       "2020-03-08 21:38:47              Dominican Republic   514723745   \n",
       "\n",
       "                      owner_username product_type  can_reshare  \\\n",
       "Date                                                             \n",
       "2020-01-05 00:53:33      nikalemusic         feed         True   \n",
       "2020-01-05 23:06:08            xy451          NaN         True   \n",
       "2020-01-17 03:07:34      nikalemusic         feed         True   \n",
       "2020-01-20 03:25:33            xy451          NaN         True   \n",
       "2020-03-08 21:38:47  littlemissbijou          NaN         True   \n",
       "\n",
       "                     comments_disabled  \n",
       "Date                                    \n",
       "2020-01-05 00:53:33              False  \n",
       "2020-01-05 23:06:08              False  \n",
       "2020-01-17 03:07:34              False  \n",
       "2020-01-20 03:25:33              False  \n",
       "2020-03-08 21:38:47              False  "
      ]
     },
     "execution_count": 47,
     "metadata": {},
     "output_type": "execute_result"
    }
   ],
   "source": [
    "df.head()"
   ]
  },
  {
   "cell_type": "code",
   "execution_count": 60,
   "metadata": {
    "ExecuteTime": {
     "end_time": "2020-07-06T06:38:13.338822Z",
     "start_time": "2020-07-06T06:38:13.307820Z"
    },
    "scrolled": false
   },
   "outputs": [
    {
     "name": "stdout",
     "output_type": "stream",
     "text": [
      "<class 'pandas.core.frame.DataFrame'>\n",
      "DatetimeIndex: 867 entries, 2020-01-05 00:53:33 to 2020-07-04 02:43:17\n",
      "Data columns (total 9 columns):\n",
      " #   Column             Non-Null Count  Dtype \n",
      "---  ------             --------------  ----- \n",
      " 0   upload_format      867 non-null    object\n",
      " 1   likes_number       867 non-null    int64 \n",
      " 2   comments_number    867 non-null    int64 \n",
      " 3   address            268 non-null    object\n",
      " 4   owner_id           867 non-null    object\n",
      " 5   owner_username     867 non-null    object\n",
      " 6   product_type       172 non-null    object\n",
      " 7   can_reshare        867 non-null    bool  \n",
      " 8   comments_disabled  867 non-null    bool  \n",
      "dtypes: bool(2), int64(2), object(5)\n",
      "memory usage: 55.9+ KB\n"
     ]
    }
   ],
   "source": [
    "df.info()"
   ]
  },
  {
   "cell_type": "markdown",
   "metadata": {},
   "source": [
    "## Dealing With Address Missing Values"
   ]
  },
  {
   "cell_type": "markdown",
   "metadata": {},
   "source": [
    " Lets check if the unique values of user_id and username columns can help filling missing values of address by masking."
   ]
  },
  {
   "cell_type": "markdown",
   "metadata": {},
   "source": [
    "lets check if some usernames have both missing and non-missing address"
   ]
  },
  {
   "cell_type": "code",
   "execution_count": 88,
   "metadata": {
    "ExecuteTime": {
     "end_time": "2020-07-06T06:55:45.975646Z",
     "start_time": "2020-07-06T06:55:45.930590Z"
    }
   },
   "outputs": [],
   "source": [
    "# It will give unique value counts by username and id\n",
    "x = df.groupby('owner_username').nunique(dropna=False)\n",
    "y = df.groupby('owner_id').nunique(dropna=False)"
   ]
  },
  {
   "cell_type": "code",
   "execution_count": 90,
   "metadata": {
    "ExecuteTime": {
     "end_time": "2020-07-06T06:56:22.151884Z",
     "start_time": "2020-07-06T06:56:22.136883Z"
    },
    "scrolled": true
   },
   "outputs": [
    {
     "name": "stdout",
     "output_type": "stream",
     "text": [
      "10\n",
      "10\n"
     ]
    }
   ],
   "source": [
    "print(x[x['address']>1].shape[0])\n",
    "print(y[y['address']>1].shape[0])"
   ]
  },
  {
   "cell_type": "markdown",
   "metadata": {},
   "source": [
    "It seems we can replace atleast 10 nans with addresses and more if the username and user_id share different missing value index"
   ]
  },
  {
   "cell_type": "code",
   "execution_count": 63,
   "metadata": {
    "ExecuteTime": {
     "end_time": "2020-07-06T06:43:48.777826Z",
     "start_time": "2020-07-06T06:43:48.756824Z"
    },
    "scrolled": true
   },
   "outputs": [],
   "source": [
    "sorted_by_owners = df.sort_values(['owner_id','owner_username'])"
   ]
  },
  {
   "cell_type": "code",
   "execution_count": 69,
   "metadata": {
    "ExecuteTime": {
     "end_time": "2020-07-06T06:45:39.675026Z",
     "start_time": "2020-07-06T06:45:39.552037Z"
    },
    "scrolled": false
   },
   "outputs": [
    {
     "data": {
      "text/plain": [
       "<matplotlib.axes._subplots.AxesSubplot at 0x2379d615c08>"
      ]
     },
     "execution_count": 69,
     "metadata": {},
     "output_type": "execute_result"
    },
    {
     "data": {
      "image/png": "[encoded data removed]",
      "text/plain": [
       "<Figure size 432x288 with 1 Axes>"
      ]
     },
     "metadata": {
      "needs_background": "light"
     },
     "output_type": "display_data"
    }
   ],
   "source": [
    "sns.heatmap(sorted_by_owners.isnull()[['owner_id','owner_username','address']], cbar=False,cmap=\"magma\", yticklabels=False)"
   ]
  },
  {
   "cell_type": "markdown",
   "metadata": {},
   "source": [
    "### Create Masks"
   ]
  },
  {
   "cell_type": "code",
   "execution_count": null,
   "metadata": {},
   "outputs": [],
   "source": []
  }
 ],
 "metadata": {
  "kernelspec": {
   "display_name": "Python 3",
   "language": "python",
   "name": "python3"
  },
  "language_info": {
   "codemirror_mode": {
    "name": "ipython",
    "version": 3
   },
   "file_extension": ".py",
   "mimetype": "text/x-python",
   "name": "python",
   "nbconvert_exporter": "python",
   "pygments_lexer": "ipython3",
   "version": "3.7.7"
  },
  "toc": {
   "base_numbering": 1,
   "nav_menu": {},
   "number_sections": true,
   "sideBar": true,
   "skip_h1_title": false,
   "title_cell": "Table of Contents",
   "title_sidebar": "Contents",
   "toc_cell": false,
   "toc_position": {},
   "toc_section_display": true,
   "toc_window_display": false
  },
  "varInspector": {
   "cols": {
    "lenName": 16,
    "lenType": 16,
    "lenVar": 40
   },
   "kernels_config": {
    "python": {
     "delete_cmd_postfix": "",
     "delete_cmd_prefix": "del ",
     "library": "var_list.py",
     "varRefreshCmd": "print(var_dic_list())"
    },
    "r": {
     "delete_cmd_postfix": ") ",
     "delete_cmd_prefix": "rm(",
     "library": "var_list.r",
     "varRefreshCmd": "cat(var_dic_list()) "
    }
   },
   "types_to_exclude": [
    "module",
    "function",
    "builtin_function_or_method",
    "instance",
    "_Feature"
   ],
   "window_display": false
  }
 },
 "nbformat": 4,
 "nbformat_minor": 4
}
